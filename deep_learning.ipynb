{
 "cells": [
  {
   "cell_type": "markdown",
   "metadata": {},
   "source": [
    "<div align=\"center\" style=\"color: blue;\">\n",
    "    <h1>INTRODUCTION TO DEEP LEARNING</h1>\n",
    "</div>"
   ]
  },
  {
   "cell_type": "markdown",
   "metadata": {},
   "source": [
    "- In the word \"Artificial Intelligence\" the word \"Artificial\" represents something that is 'human induced' and \"Intelligence\" indicates 'thinking power'.\n",
    "- AI contains Several Topics: \n",
    "    1. Machine Learning\n",
    "    2. Robotics\n",
    "    3. Expert Systems\n",
    "    4. Biometrics\n",
    "    5. NLP"
   ]
  },
  {
   "cell_type": "markdown",
   "metadata": {},
   "source": [
    "![image](https://miro.medium.com/v2/resize:fit:958/1*-oVnNlSFTUxvpJ42VIVpRw.jpeg)"
   ]
  },
  {
   "cell_type": "markdown",
   "metadata": {},
   "source": [
    "![image](https://cdn.prod.website-files.com/5fb24a974499e90dae242d98/60f6fcbbeb0b8f57a7980a98_5f213db7c7763a9288759ad1_5eac2d0ef117c236e34cc0ff_DeepLearning.jpeg)"
   ]
  },
  {
   "cell_type": "markdown",
   "metadata": {},
   "source": [
    "# DIFFERENCE BETWEEN ML AND DL"
   ]
  },
  {
   "cell_type": "markdown",
   "metadata": {},
   "source": [
    "![image](https://jelvix.com/wp-content/uploads/2020/05/deep-learning-vs-machine-learning-difference.jpg)"
   ]
  },
  {
   "cell_type": "markdown",
   "metadata": {},
   "source": [
    "# APPLICATIONS OF DEEP LEARNING"
   ]
  },
  {
   "cell_type": "markdown",
   "metadata": {},
   "source": [
    "1. Health Care\n",
    "2. Training Robots\n",
    "3. Self Driving Cars\n",
    "4. Machine Translation\n",
    "5. Music Composition\n",
    "6. Coloring the images\n",
    "7. Chatbots\n",
    "8. Recommender Systems\n",
    "9. Biometrics"
   ]
  },
  {
   "cell_type": "markdown",
   "metadata": {},
   "source": [
    "- Deep Learning is mainly dependent on Artificial Neural Network(ANN) that created from Biological Neural Network of the brain."
   ]
  },
  {
   "cell_type": "markdown",
   "metadata": {},
   "source": [
    "<div align=\"center\" style=\"color: yellow;\">\n",
    "    <h1>BIOLOGICAL NEURAL NETWORK</h1>\n",
    "</div>"
   ]
  },
  {
   "cell_type": "markdown",
   "metadata": {},
   "source": [
    "![image](https://glossaread-contain.s3.ap-south-1.amazonaws.com/epub/1642652405_8028655.png)"
   ]
  },
  {
   "cell_type": "markdown",
   "metadata": {},
   "source": [
    "![image](https://www.researchgate.net/publication/339446790/figure/fig2/AS:862019817320450@1582532948784/A-biological-neuron-in-comparison-to-an-artificial-neural-network-a-human-neuron-b.png)"
   ]
  },
  {
   "cell_type": "markdown",
   "metadata": {},
   "source": [
    "![image](https://www.researchgate.net/publication/340627317/figure/fig1/AS:880226259177472@1586873702119/Mechanism-of-ANNs-a-Structure-of-a-biological-neuron-25b-Structure-of-artificial.ppm)"
   ]
  },
  {
   "cell_type": "markdown",
   "metadata": {},
   "source": [
    "| **Biological Neuron** | **Artificial Neuron** |\n",
    "|------------------------|------------------------|\n",
    "| Dendrites             | Inputs                |\n",
    "| Cell Nucleus          | Nodes                 |\n",
    "| Synapse               | Weights               |\n",
    "| Axon                  | Output                |\n",
    "\n"
   ]
  },
  {
   "cell_type": "markdown",
   "metadata": {},
   "source": [
    "<div align=\"center\" style=\"color: green;\">\n",
    "    <h1>WORKING OF AN ARTIFICIAL NEURON</h1>\n",
    "</div>"
   ]
  },
  {
   "cell_type": "markdown",
   "metadata": {},
   "source": [
    "- The data may it be text,videos or images should be given as input.\n",
    "- Let us assume the input values are x1,x2.....xn.\n",
    "- Suppose we want to input an image of 28x28 pixels size.\n",
    "- The total number of pixels are 28 * 28 = 784 and hence 784 inputs are given as x1,x2 to x784\n",
    "- The next step is implemented in another layer.In this step,the inputs are multiplied by weights w1,w2,...wn and their sum is passed to the artificial neuron.\n",
    "- That means x1.w1 + x2.w2 + x3.w3 + ..... + xn.wn = sum(xi.wi).This values is passed to the neuron \n",
    "- The next step,the value of sum(xi.wi) which is the weightes sum of inputs is given to an activation function.The activation function uses some logic to produced the output y."
   ]
  },
  {
   "cell_type": "markdown",
   "metadata": {},
   "source": [
    "- The neuron along with the activation function is called \"Artificial Neuron\" and It is contained a single layer.This is called Preceptron.\n",
    "- A Perceptron is a basic level artificial neuron.A Perceptron may have single layer or multiple layer.\n",
    "- A single layer perceptron is generally used for classifying the data.\n",
    "- A multi layer perceptron contains several layers and thus represents a full fledge Neural Network\n",
    "- An Artificial Neuron that contains 1 Input Layer and 1 Output Layer is called Single Layer Perceptron."
   ]
  },
  {
   "cell_type": "markdown",
   "metadata": {},
   "source": [
    "![image](https://i.sstatic.net/VqOpE.jpg)"
   ]
  },
  {
   "cell_type": "markdown",
   "metadata": {},
   "source": [
    "<div align=\"center\" style=\"color: white;\">\n",
    "    <h1>ACTIVATION FUNCTIONS</h1>\n",
    "</div>"
   ]
  },
  {
   "cell_type": "markdown",
   "metadata": {},
   "source": [
    "- An activation function takes the \"Weighted sum of inputs\" as input and decides whether it should send signal or not.\n",
    "- Activation functions are useful when handling non linear problems.\n",
    "- When data is aligned in the form of a straight line,it is linear data.\n",
    "- Types of Activation Function\n",
    "    1. Identify function or Linear Activation Function\n",
    "    2. Binary Step Function or Threshold Function\n",
    "    3. Logistic Function or Sigmoid Function\n",
    "    4. Tanh Function or Hyperbolic Tangent Function\n",
    "    5. ReLU Function or Rectified Linear Unit Function\n",
    "    6. Softmax Function"
   ]
  },
  {
   "cell_type": "markdown",
   "metadata": {},
   "source": [
    "![image](https://www.scaler.com/topics/images/activation-functions-8.webp)"
   ]
  },
  {
   "cell_type": "markdown",
   "metadata": {},
   "source": [
    "# Identify function or Linear Activation Function"
   ]
  },
  {
   "cell_type": "markdown",
   "metadata": {},
   "source": [
    "- represents a Straight Line.\n",
    "- range  -infinity to +infinity"
   ]
  },
  {
   "cell_type": "markdown",
   "metadata": {},
   "source": [
    "# Binary Step Function or Threshold Function"
   ]
  },
  {
   "cell_type": "markdown",
   "metadata": {},
   "source": [
    "- Binary Step funtion depends on a threshold value that decide whether a neuron should be activated or not.\n",
    "- Useful for Binary Classification Models"
   ]
  },
  {
   "cell_type": "markdown",
   "metadata": {},
   "source": [
    "# Logistic Function or Sigmoid Function"
   ]
  },
  {
   "cell_type": "markdown",
   "metadata": {},
   "source": [
    "- range 0 to 1.\n",
    "- It is used in logistic regression"
   ]
  },
  {
   "cell_type": "markdown",
   "metadata": {},
   "source": [
    "# Tanh Function or Hyperbolic Tangent Function"
   ]
  },
  {
   "cell_type": "markdown",
   "metadata": {},
   "source": [
    "- range -1 to 1\n",
    "- It is used in Autoencoders"
   ]
  },
  {
   "cell_type": "markdown",
   "metadata": {},
   "source": [
    "# ReLU Function or Rectified Linear Unit Function"
   ]
  },
  {
   "cell_type": "markdown",
   "metadata": {},
   "source": [
    "- Very popular for Deep Learning.\n",
    "- range 0 to +infinity"
   ]
  },
  {
   "cell_type": "markdown",
   "metadata": {},
   "source": [
    "# Softmax Function"
   ]
  },
  {
   "cell_type": "markdown",
   "metadata": {},
   "source": [
    "- Combination of several Sigmoid functions.\n",
    "- range 0 to 1\n",
    "- Use for Multiclass Classification Models"
   ]
  },
  {
   "cell_type": "markdown",
   "metadata": {},
   "source": [
    "![image](https://cdn.sanity.io/images/vr8gru94/production/582a6c51701bb584c1cdd6662cc376b9cadb7160-2048x1152.png)"
   ]
  },
  {
   "cell_type": "markdown",
   "metadata": {},
   "source": [
    "<div align=\"center\" style=\"color: purple;\">\n",
    "    <h1>WHERE ACTIVATION FUNCTIONS ARE USED</h1>\n",
    "</div>"
   ]
  },
  {
   "cell_type": "markdown",
   "metadata": {},
   "source": [
    "![image](https://www.researchgate.net/publication/261206036/figure/fig3/AS:613952182571008@1523389015039/ANN-Architecture-Several-ANN-architectures-have-been-developed-such-as-feedforward-NN.png)"
   ]
  },
  {
   "cell_type": "markdown",
   "metadata": {},
   "source": [
    "- Activation functions are used most of times in any Hidden and Output Layers in ANN."
   ]
  }
 ],
 "metadata": {
  "kernelspec": {
   "display_name": "Python 3",
   "language": "python",
   "name": "python3"
  },
  "language_info": {
   "name": "python",
   "version": "3.10.15"
  }
 },
 "nbformat": 4,
 "nbformat_minor": 2
}
