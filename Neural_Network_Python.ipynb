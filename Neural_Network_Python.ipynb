{
 "cells": [
  {
   "cell_type": "markdown",
   "metadata": {},
   "source": [
    "- The purpose of an Artificial Neural Networks(ANN) is to understand the given data and make new predictions like our human brains do.\n",
    "- Billions of neurons are interconnected in the human brain."
   ]
  },
  {
   "cell_type": "markdown",
   "metadata": {},
   "source": [
    "<div align=\"center\" style=\"color: blue;\">\n",
    "    <h1>CREATING A SINGLE LAYERED NEURAL NETWORK</h1>\n",
    "</div>"
   ]
  },
  {
   "cell_type": "markdown",
   "metadata": {},
   "source": [
    "![image](https://miro.medium.com/v2/resize:fit:908/1*IAkZWzDOYGaiu3e47rEMgQ.png)"
   ]
  },
  {
   "cell_type": "markdown",
   "metadata": {},
   "source": [
    "- Simple ANN that contains an Input Layer,Hidden Layer and Output Layer.Generally Input Layer and Output Layer are not counted.The layers between them only counted."
   ]
  },
  {
   "cell_type": "markdown",
   "metadata": {},
   "source": [
    "![image](https://thinkingneuron.com/wp-content/uploads/2020/10/How-to-use-ANN-for-classification-in-python.png)"
   ]
  },
  {
   "cell_type": "markdown",
   "metadata": {},
   "source": [
    "# CREATING INPUT LAYER"
   ]
  },
  {
   "cell_type": "code",
   "execution_count": 1,
   "metadata": {},
   "outputs": [],
   "source": [
    "import numpy as np"
   ]
  },
  {
   "cell_type": "code",
   "execution_count": 2,
   "metadata": {},
   "outputs": [],
   "source": [
    "data = np.array([2,3]) # x0 node receive - 2 and x1 node receive - 3 values\n",
    "x0 = data[0]\n",
    "x1 = data[1]"
   ]
  },
  {
   "cell_type": "code",
   "execution_count": 3,
   "metadata": {},
   "outputs": [
    {
     "name": "stdout",
     "output_type": "stream",
     "text": [
      "Input Layer = [2 3]\n"
     ]
    }
   ],
   "source": [
    "input_layer = np.array([x0,x1])\n",
    "print(\"Input Layer =\",input_layer)"
   ]
  },
  {
   "cell_type": "markdown",
   "metadata": {},
   "source": [
    "# CREATING HIDDEN LAYER"
   ]
  },
  {
   "cell_type": "markdown",
   "metadata": {},
   "source": [
    "- The next step to create the Hidden Layer.\n",
    "- The Hidden Layer and Output Layers will have weights which are some numbers.These weights will decide the final output of the Layer.\n",
    "- The Output Layer has only one node. "
   ]
  },
  {
   "cell_type": "code",
   "execution_count": 4,
   "metadata": {},
   "outputs": [],
   "source": [
    "weights = {\n",
    "    'x2':np.array([1,1]),\n",
    "    'x3':np.array([-1,1]),\n",
    "    'x4':np.array([2,-1])\n",
    "}"
   ]
  },
  {
   "cell_type": "markdown",
   "metadata": {},
   "source": [
    "##### How to calculate the data at the Hidden Layer"
   ]
  },
  {
   "cell_type": "markdown",
   "metadata": {},
   "source": [
    "- It is the sum of weighted data received from the Input Layer.\n",
    "- Sum of weighted data means sum of data multiplied by the weights of the node.\n",
    "- sum(xi.wi)\n",
    "- Data at x2 node = sum(Data from Input Layer * weights of x2 )\n",
    "- Data at x3 node = sum(Data from Input Layer * weights of x3 )\n",
    "- Data from Input Layer is 2,3.The weights of x2 node are 1 and 1.Calculate data coming into x2 node is - x0*1 + x1*1 = 2*1 + 3*1 = 5\n",
    "- The weights of x3 node are -1 and 1.Calculate data coming into x3 node is - x0*(-1) + x1*1 = 2 *(-1) + 3*1 = 1"
   ]
  },
  {
   "cell_type": "code",
   "execution_count": 5,
   "metadata": {},
   "outputs": [],
   "source": [
    "x2 = (input_layer * weights['x2']).sum()\n",
    "x3 = (input_layer * weights['x3']).sum()"
   ]
  },
  {
   "cell_type": "code",
   "execution_count": 6,
   "metadata": {},
   "outputs": [
    {
     "name": "stdout",
     "output_type": "stream",
     "text": [
      "Hidden Layer = [5 1]\n"
     ]
    }
   ],
   "source": [
    "hidden_layer = np.array([x2,x3])\n",
    "print(\"Hidden Layer =\",hidden_layer)"
   ]
  },
  {
   "cell_type": "markdown",
   "metadata": {},
   "source": [
    "# CREATING OUTPUT LAYER"
   ]
  },
  {
   "cell_type": "markdown",
   "metadata": {},
   "source": [
    "- We are left with the last layer,Called Output Layer that displays the result of the Network.\n",
    "- The Output Layer has only one node.It contains two connections with the nodes x2 and x3 inside Hidden Layer.Hence it should have two weights.\n",
    "- How ro calculate the data coming into the Output Layer.It is the sum of weighted data received from the previous layer,ie.Hidden Layer.\n",
    "- The weights of x4 node are - 2,-1.Calculate data coiming into x2 and x3 - x2x2 + x3x(-1) = 5x2 + 1*(-1) = 9"
   ]
  },
  {
   "cell_type": "code",
   "execution_count": 9,
   "metadata": {},
   "outputs": [
    {
     "name": "stdout",
     "output_type": "stream",
     "text": [
      "Output Layer = [9]\n"
     ]
    }
   ],
   "source": [
    "x4 = (hidden_layer * weights['x4']).sum()\n",
    "output_layer = np.array([x4])\n",
    "print(\"Output Layer =\",output_layer)"
   ]
  },
  {
   "cell_type": "markdown",
   "metadata": {},
   "source": [
    "# CREATING A NEURAL NETWORK WITH 2 LAYERS"
   ]
  },
  {
   "cell_type": "markdown",
   "metadata": {},
   "source": [
    "![image](https://www.oreilly.com/api/v2/epubs/9781787125193/files/assets/73118e55-6f23-4bf2-981f-0911768763fe.png)"
   ]
  },
  {
   "cell_type": "markdown",
   "metadata": {},
   "source": [
    "-  Input Layer = contains nodes x0 and x1.They do not have weights.\n",
    "-  Hidden Layer1 = contains nodes x2 and x3.Weights of x2 are 1,1.Weights of x3 are -1,1.\n",
    "-  Hidden Layer2 = contains nodes x4 and x5.Weights of x4 are -2,1.Weights of x5 are 1,0.\n",
    "-  Output Layer = contains node x6.Weights of x6 are 1,-1."
   ]
  },
  {
   "cell_type": "code",
   "execution_count": 10,
   "metadata": {},
   "outputs": [],
   "source": [
    "weights = {\n",
    "    'x2':np.array([1,1]),\n",
    "    'x3':np.array([-1,1]),\n",
    "    'x4':np.array([-2,1]),\n",
    "    'x5':np.array([1,0]),\n",
    "    'x6':np.array([1,-1])\n",
    "}"
   ]
  },
  {
   "cell_type": "markdown",
   "metadata": {},
   "source": [
    "# CREATING INPUT LAYER"
   ]
  },
  {
   "cell_type": "code",
   "execution_count": 11,
   "metadata": {},
   "outputs": [],
   "source": [
    "import numpy as np"
   ]
  },
  {
   "cell_type": "code",
   "execution_count": 12,
   "metadata": {},
   "outputs": [],
   "source": [
    "data = np.array([2,3]) # x0 node receive - 2 and x1 node receive - 3 values\n",
    "x0 = data[0]\n",
    "x1 = data[1]"
   ]
  },
  {
   "cell_type": "code",
   "execution_count": 13,
   "metadata": {},
   "outputs": [
    {
     "name": "stdout",
     "output_type": "stream",
     "text": [
      "Input Layer = [2 3]\n"
     ]
    }
   ],
   "source": [
    "input_layer = np.array([x0,x1])\n",
    "print(\"Input Layer =\",input_layer)"
   ]
  },
  {
   "cell_type": "markdown",
   "metadata": {},
   "source": [
    "# CREATING HIDDEN LAYER1"
   ]
  },
  {
   "cell_type": "code",
   "execution_count": 14,
   "metadata": {},
   "outputs": [
    {
     "name": "stdout",
     "output_type": "stream",
     "text": [
      "Hidden Layer1 = [5 1]\n"
     ]
    }
   ],
   "source": [
    "x2 = (input_layer * weights['x2']).sum()\n",
    "x3 = (input_layer * weights['x3']).sum()\n",
    "hidden_layer1 = np.array([x2,x3])\n",
    "print(\"Hidden Layer1 =\",hidden_layer1)"
   ]
  },
  {
   "cell_type": "markdown",
   "metadata": {},
   "source": [
    "# CREATING HIDDEN LAYER2"
   ]
  },
  {
   "cell_type": "code",
   "execution_count": 16,
   "metadata": {},
   "outputs": [
    {
     "name": "stdout",
     "output_type": "stream",
     "text": [
      "Hidden Layer2 = [-9  5]\n"
     ]
    }
   ],
   "source": [
    "x4 = (hidden_layer1*weights['x4']).sum()\n",
    "x5 = (hidden_layer1*weights['x5']).sum()\n",
    "hidden_layer2 = np.array([x4,x5])\n",
    "print(\"Hidden Layer2 =\",hidden_layer2)"
   ]
  },
  {
   "cell_type": "markdown",
   "metadata": {},
   "source": [
    "# CREATING OUTPUT LAYER"
   ]
  },
  {
   "cell_type": "code",
   "execution_count": 19,
   "metadata": {},
   "outputs": [
    {
     "name": "stdout",
     "output_type": "stream",
     "text": [
      "Output Layer = [-14]\n"
     ]
    }
   ],
   "source": [
    "x6 = (hidden_layer2 * weights['x6']).sum()\n",
    "output_layer = np.array([x6])\n",
    "print(\"Output Layer =\",output_layer)"
   ]
  },
  {
   "cell_type": "markdown",
   "metadata": {},
   "source": [
    "# CREATING A NEURAL NETWORK WITH ACTIVATION FUNCTIONS"
   ]
  },
  {
   "cell_type": "markdown",
   "metadata": {},
   "source": [
    "![image](https://framerusercontent.com/images/KzxWDG49NJLLUUwcU8iFKtoqTI.jpg)"
   ]
  },
  {
   "cell_type": "markdown",
   "metadata": {},
   "source": [
    "- We created 2 Networks but we did not include Activation Functions.\n",
    "- An Activation Functions is a formula or logic that modifies the data coming into Layer.\n",
    "- We can use Activation Function in all the Layers of the Network or only in a few Layers depending upon our requirement.(Input Layer,Hidden Layer and Output Layer)\n",
    "- We want to use ReLU Activation Function in the Hidden Layer and Sigmoid Activation Function in the Output Layer."
   ]
  },
  {
   "cell_type": "code",
   "execution_count": 20,
   "metadata": {},
   "outputs": [],
   "source": [
    "weights = {\n",
    "    'x2':np.array([1,1]),\n",
    "    'x3':np.array([-1,1]),\n",
    "    'x4':np.array([-2,1]),\n",
    "    'x5':np.array([1,0]),\n",
    "    'x6':np.array([1,-1])\n",
    "}"
   ]
  },
  {
   "cell_type": "markdown",
   "metadata": {},
   "source": [
    "# CREATING RELU ACTIVATION FUNCTION"
   ]
  },
  {
   "cell_type": "markdown",
   "metadata": {},
   "source": [
    "f(x)  = 0 for x<0 \\\n",
    "      = x for x>=0 "
   ]
  },
  {
   "cell_type": "code",
   "execution_count": 21,
   "metadata": {},
   "outputs": [],
   "source": [
    "def relu(x):\n",
    "    return max(0,x)"
   ]
  },
  {
   "cell_type": "markdown",
   "metadata": {},
   "source": [
    "# CREATING SIGMOID ACTIVATION FUNCTION"
   ]
  },
  {
   "cell_type": "markdown",
   "metadata": {},
   "source": [
    "f(x) = 1/(1+e^-x)"
   ]
  },
  {
   "cell_type": "code",
   "execution_count": 22,
   "metadata": {},
   "outputs": [],
   "source": [
    "def sigmoid(x):\n",
    "    if x<=0:\n",
    "        return 0\n",
    "    else:\n",
    "        return 1"
   ]
  },
  {
   "cell_type": "markdown",
   "metadata": {},
   "source": [
    "# CREATING INPUT LAYER"
   ]
  },
  {
   "cell_type": "code",
   "execution_count": 24,
   "metadata": {},
   "outputs": [
    {
     "name": "stdout",
     "output_type": "stream",
     "text": [
      "Input Layer = [2 3]\n"
     ]
    }
   ],
   "source": [
    "data = np.array([2,3]) # x0 node receive - 2 and x1 node receive - 3 values\n",
    "x0 = data[0]\n",
    "x1 = data[1]\n",
    "input_layer = np.array([x0,x1])\n",
    "print(\"Input Layer =\",input_layer)"
   ]
  },
  {
   "cell_type": "markdown",
   "metadata": {},
   "source": [
    "# CREATING HIDDEN LAYER1"
   ]
  },
  {
   "cell_type": "code",
   "execution_count": 25,
   "metadata": {},
   "outputs": [
    {
     "name": "stdout",
     "output_type": "stream",
     "text": [
      "Hidden Layer1 = [5 1]\n"
     ]
    }
   ],
   "source": [
    "x2 = (input_layer * weights['x2']).sum()\n",
    "x3 = (input_layer * weights['x3']).sum()\n",
    "hidden_layer1 = np.array([x2,x3])\n",
    "print(\"Hidden Layer1 =\",hidden_layer1)"
   ]
  },
  {
   "cell_type": "markdown",
   "metadata": {},
   "source": [
    "- These values should be now passed to relu() for further processing."
   ]
  },
  {
   "cell_type": "code",
   "execution_count": 26,
   "metadata": {},
   "outputs": [
    {
     "name": "stdout",
     "output_type": "stream",
     "text": [
      "Hidden Layer1 = [5 1]\n"
     ]
    }
   ],
   "source": [
    "x2 = relu(x2)\n",
    "x3 = relu(x3)\n",
    "hidden_layer1 = np.array([x2,x3])\n",
    "print(\"Hidden Layer1 =\",hidden_layer1)"
   ]
  },
  {
   "cell_type": "markdown",
   "metadata": {},
   "source": [
    "# CREATING HIDDEN LAYER2"
   ]
  },
  {
   "cell_type": "code",
   "execution_count": 30,
   "metadata": {},
   "outputs": [
    {
     "name": "stdout",
     "output_type": "stream",
     "text": [
      "Hidden Layer2 = [-9  5]\n"
     ]
    }
   ],
   "source": [
    "x4 = (hidden_layer1*weights['x4']).sum()\n",
    "x5 = (hidden_layer1*weights['x5']).sum()\n",
    "hidden_layer2 = np.array([x4,x5])\n",
    "print(\"Hidden Layer2 =\",hidden_layer2)"
   ]
  },
  {
   "cell_type": "code",
   "execution_count": 31,
   "metadata": {},
   "outputs": [
    {
     "name": "stdout",
     "output_type": "stream",
     "text": [
      "Hidden Layer2 = [0 5]\n"
     ]
    }
   ],
   "source": [
    "x4 = relu(x4)\n",
    "x5 = relu(x5)\n",
    "hidden_layer2 = np.array([x4,x5])\n",
    "print(\"Hidden Layer2 =\",hidden_layer2)"
   ]
  },
  {
   "cell_type": "markdown",
   "metadata": {},
   "source": [
    "# CREATING OUTPUT LAYER"
   ]
  },
  {
   "cell_type": "code",
   "execution_count": 32,
   "metadata": {},
   "outputs": [
    {
     "name": "stdout",
     "output_type": "stream",
     "text": [
      "Output Layer = [0]\n"
     ]
    }
   ],
   "source": [
    "x6 = (hidden_layer2 * weights['x6']).sum()\n",
    "x6 = sigmoid(x6)\n",
    "output_layer = np.array([x6])\n",
    "print(\"Output Layer =\",output_layer)"
   ]
  },
  {
   "cell_type": "code",
   "execution_count": null,
   "metadata": {},
   "outputs": [],
   "source": []
  }
 ],
 "metadata": {
  "kernelspec": {
   "display_name": "Python 3",
   "language": "python",
   "name": "python3"
  },
  "language_info": {
   "codemirror_mode": {
    "name": "ipython",
    "version": 3
   },
   "file_extension": ".py",
   "mimetype": "text/x-python",
   "name": "python",
   "nbconvert_exporter": "python",
   "pygments_lexer": "ipython3",
   "version": "3.10.15"
  }
 },
 "nbformat": 4,
 "nbformat_minor": 2
}
