{
 "cells": [
  {
   "cell_type": "markdown",
   "metadata": {},
   "source": [
    "- TensorFlow is a Framework from Google,that is useful to develop Machine Learning and Deep Learning Program.\n",
    "- TensorFlow is open source.\n",
    "- Keras is a high-level Neural Networks library written in Python.\n",
    "- Cognitive Toolkit(CNTK) or Theano is deep learning framework developed by Microsoft."
   ]
  },
  {
   "cell_type": "markdown",
   "metadata": {},
   "source": [
    "#### Install keras and tensorflow"
   ]
  },
  {
   "cell_type": "code",
   "execution_count": 1,
   "metadata": {},
   "outputs": [
    {
     "name": "stderr",
     "output_type": "stream",
     "text": [
      "2024-12-05 09:00:30.666406: I tensorflow/core/platform/cpu_feature_guard.cc:210] This TensorFlow binary is optimized to use available CPU instructions in performance-critical operations.\n",
      "To enable the following instructions: AVX2 FMA, in other operations, rebuild TensorFlow with the appropriate compiler flags.\n"
     ]
    }
   ],
   "source": [
    "import tensorflow as tf"
   ]
  },
  {
   "cell_type": "code",
   "execution_count": 2,
   "metadata": {},
   "outputs": [
    {
     "name": "stdout",
     "output_type": "stream",
     "text": [
      "2.16.2\n"
     ]
    }
   ],
   "source": [
    "print(tf.__version__)"
   ]
  },
  {
   "cell_type": "markdown",
   "metadata": {},
   "source": [
    "# FUNDAMENTALS OF TENSORFLOW "
   ]
  },
  {
   "cell_type": "markdown",
   "metadata": {},
   "source": [
    "- In the word TensorFlow,'tensor' represents a multidimensional array and 'flow' represents a graph of operations.\n",
    "    "
   ]
  },
  {
   "cell_type": "code",
   "execution_count": 3,
   "metadata": {},
   "outputs": [
    {
     "name": "stdout",
     "output_type": "stream",
     "text": [
      "tf.Tensor(30, shape=(), dtype=int32)\n"
     ]
    }
   ],
   "source": [
    "\n",
    "a =  10 \n",
    "b = 20 \n",
    "c = tf.add(a,b)\n",
    "print(c)"
   ]
  },
  {
   "cell_type": "markdown",
   "metadata": {},
   "source": [
    "# PROPERTIES OF A TENSORFLOW"
   ]
  },
  {
   "cell_type": "markdown",
   "metadata": {},
   "source": [
    "- Every tensor will have 3 properties:\n",
    "    - A unique label (name)\n",
    "    - A dimension (shape)\n",
    "    - A data type (dtype)"
   ]
  },
  {
   "cell_type": "markdown",
   "metadata": {},
   "source": [
    "# TYPES OF TENSORS"
   ]
  },
  {
   "cell_type": "markdown",
   "metadata": {},
   "source": [
    "- 4 types of tensors:\n",
    "  -  tf.constant\n",
    "  -  tf.Variable\n",
    "  -  tf.placeholder\n",
    "  -  tf.SparseTensor"
   ]
  },
  {
   "cell_type": "markdown",
   "metadata": {},
   "source": [
    "# CONSTANT TENSORS"
   ]
  },
  {
   "cell_type": "markdown",
   "metadata": {},
   "source": [
    "tf.constant(value,dtype,name=\"\")\n",
    "- tf.string\n",
    "- tf.int16\n",
    "- tf.float32"
   ]
  },
  {
   "cell_type": "code",
   "execution_count": 4,
   "metadata": {},
   "outputs": [
    {
     "name": "stdout",
     "output_type": "stream",
     "text": [
      "tf.Tensor(10, shape=(), dtype=int32)\n",
      "tf.Tensor(10, shape=(), dtype=int16)\n",
      "tf.Tensor(10, shape=(), dtype=int16)\n",
      "tf.Tensor(10.5, shape=(), dtype=float32)\n",
      "tf.Tensor(b'my name is prodip', shape=(), dtype=string)\n"
     ]
    }
   ],
   "source": [
    "import tensorflow as tf \n",
    "print(tf.constant(10))\n",
    "print(tf.constant(10,dtype=tf.int16))\n",
    "print(tf.constant(10,tf.int16,name=\"my value\"))\n",
    "print(tf.constant(10.50,tf.float32))\n",
    "print(tf.constant('my name is prodip'))"
   ]
  },
  {
   "cell_type": "markdown",
   "metadata": {},
   "source": [
    "# VARIABLE TENSOR"
   ]
  },
  {
   "cell_type": "markdown",
   "metadata": {},
   "source": [
    "- tf.variable(value,dtype,name=\"\")"
   ]
  },
  {
   "cell_type": "code",
   "execution_count": 5,
   "metadata": {},
   "outputs": [
    {
     "name": "stdout",
     "output_type": "stream",
     "text": [
      "<tf.Variable 'Variable:0' shape=() dtype=int32, numpy=10>\n",
      "<tf.Variable 'UnreadVariable' shape=() dtype=int32, numpy=26>\n",
      "<tf.Variable 'UnreadVariable' shape=() dtype=int32, numpy=100>\n",
      "<tf.Variable 'Variable:0' shape=() dtype=string, numpy=b'Hello'>\n",
      "<tf.Variable 'UnreadVariable' shape=() dtype=string, numpy=b'hello man'>\n"
     ]
    }
   ],
   "source": [
    "v1 = tf.Variable(10)\n",
    "print(v1)\n",
    "v2 = v1.assign(26)\n",
    "print(v2)\n",
    "# change the value v1 to new variable value\n",
    "new_var = 100\n",
    "v3 = v1.assign(new_var)\n",
    "print(v3)\n",
    "# store string value \n",
    "v1 = tf.Variable(\"Hello\")\n",
    "print(v1)\n",
    "# change Hello to hello man\n",
    "v2 = v1.assign('hello man')\n",
    "print(v2) "
   ]
  },
  {
   "cell_type": "markdown",
   "metadata": {},
   "source": [
    "# CREATING TENSOR WITH ARRAYS"
   ]
  },
  {
   "cell_type": "code",
   "execution_count": 6,
   "metadata": {},
   "outputs": [
    {
     "name": "stdout",
     "output_type": "stream",
     "text": [
      "tf.Tensor([10 20 30 40], shape=(4,), dtype=int32)\n"
     ]
    }
   ],
   "source": [
    "# 1D array \n",
    "arr1 = tf.constant([10,20,30,40])\n",
    "print(arr1)"
   ]
  },
  {
   "cell_type": "code",
   "execution_count": 7,
   "metadata": {},
   "outputs": [
    {
     "name": "stdout",
     "output_type": "stream",
     "text": [
      "tf.Tensor(\n",
      "[[10 20 25]\n",
      " [30 40 45]], shape=(2, 3), dtype=int32)\n"
     ]
    }
   ],
   "source": [
    "# 2D array (2 rows and 3 columns)\n",
    "arr2 = tf.constant([[10,20,25],[30,40,45]])\n",
    "print(arr2)"
   ]
  },
  {
   "cell_type": "code",
   "execution_count": 8,
   "metadata": {},
   "outputs": [
    {
     "name": "stdout",
     "output_type": "stream",
     "text": [
      "<tf.Variable 'Variable:0' shape=(2, 2, 3) dtype=int32, numpy=\n",
      "array([[[10, 20, 25],\n",
      "        [30, 40, 45]],\n",
      "\n",
      "       [[10, 20, 25],\n",
      "        [30, 40, 45]]], dtype=int32)>\n"
     ]
    }
   ],
   "source": [
    "# 3D array (2D with 2 rows and 3 columns)\n",
    "arr3 = tf.Variable([[[10,20,25],[30,40,45]],[[10,20,25],[30,40,45]]])\n",
    "print(arr3)"
   ]
  },
  {
   "cell_type": "code",
   "execution_count": 10,
   "metadata": {},
   "outputs": [
    {
     "data": {
      "text/plain": [
       "'Variable:0'"
      ]
     },
     "execution_count": 10,
     "metadata": {},
     "output_type": "execute_result"
    }
   ],
   "source": [
    "arr3.name"
   ]
  },
  {
   "cell_type": "code",
   "execution_count": 11,
   "metadata": {},
   "outputs": [
    {
     "data": {
      "text/plain": [
       "TensorShape([2, 2, 3])"
      ]
     },
     "execution_count": 11,
     "metadata": {},
     "output_type": "execute_result"
    }
   ],
   "source": [
    "arr3.shape"
   ]
  },
  {
   "cell_type": "code",
   "execution_count": 12,
   "metadata": {},
   "outputs": [
    {
     "data": {
      "text/plain": [
       "tf.int32"
      ]
     },
     "execution_count": 12,
     "metadata": {},
     "output_type": "execute_result"
    }
   ],
   "source": [
    "arr3.dtype # occupying 32 bits.sometimes the integers can also take 16 bits only. "
   ]
  },
  {
   "cell_type": "code",
   "execution_count": 15,
   "metadata": {},
   "outputs": [
    {
     "name": "stdout",
     "output_type": "stream",
     "text": [
      "tf.Tensor(35, shape=(), dtype=int32)\n",
      "Value of c before running graph= tf.Tensor(35, shape=(), dtype=int32)\n"
     ]
    }
   ],
   "source": [
    "# addition of two numbers\n",
    "a = tf.constant(10)\n",
    "b = tf.constant(25)\n",
    "c = tf.add(a,b)\n",
    "print(c)\n",
    "c1 = a + b\n",
    "print('Value of c before running graph=',c1)"
   ]
  },
  {
   "cell_type": "markdown",
   "metadata": {},
   "source": [
    "# COMMON OPERATIONS IN TENSORFLOW"
   ]
  },
  {
   "cell_type": "markdown",
   "metadata": {},
   "source": [
    "- tf.add(a,b)\n",
    "- tf.substract(a,b)\n",
    "- tf.multiply(a,b)\n",
    "- tf.div(a,b)\n",
    "- tf.pow(a,b)\n",
    "- tf.exp(a)\n",
    "- tf.sqrt(a)\n",
    "- tf.matmul(a,b)"
   ]
  },
  {
   "cell_type": "code",
   "execution_count": 22,
   "metadata": {},
   "outputs": [
    {
     "name": "stdout",
     "output_type": "stream",
     "text": [
      "tf.Tensor(1157.625, shape=(), dtype=float32)\n"
     ]
    }
   ],
   "source": [
    "res = tf.pow(10.5,3)\n",
    "print(res)"
   ]
  },
  {
   "cell_type": "markdown",
   "metadata": {},
   "source": [
    "# KERAS"
   ]
  },
  {
   "cell_type": "markdown",
   "metadata": {},
   "source": [
    "- Keras became part of TensorFlow Framework.\n",
    "- There are 2 important places where Keras library is used\n",
    "  - While creating Model for Artificial Neural Network\n",
    "  - While creating Layers for Artificial Neural Network"
   ]
  },
  {
   "cell_type": "markdown",
   "metadata": {},
   "source": [
    "- To summarise, Keras layer requires below minimum details to create a complete layer.\n",
    "- Shape of the input data\n",
    "- Number of neurons / units in the layer\n",
    "- Initializers\n",
    "- Regularizers\n",
    "- Constraints\n",
    "- Activations"
   ]
  },
  {
   "cell_type": "markdown",
   "metadata": {},
   "source": [
    "#### The Keras Sequential Model"
   ]
  },
  {
   "cell_type": "markdown",
   "metadata": {},
   "source": [
    "- While creating any type of Artificial Neural Network(ANN) ,the general way is to create the layers one by one and them sequentially so that the Network will be formed. "
   ]
  },
  {
   "cell_type": "code",
   "execution_count": 25,
   "metadata": {},
   "outputs": [],
   "source": [
    "from keras.models import Sequential"
   ]
  },
  {
   "cell_type": "code",
   "execution_count": 26,
   "metadata": {},
   "outputs": [],
   "source": [
    "model = Sequential()"
   ]
  },
  {
   "cell_type": "markdown",
   "metadata": {},
   "source": [
    "- Then we will create layers of the model and add them one at a time to the model.\n",
    "- https://www.tutorialspoint.com/keras/keras_layers.htm\n",
    "- https://www.tutorialspoint.com/keras/keras_models.htm"
   ]
  },
  {
   "cell_type": "code",
   "execution_count": 30,
   "metadata": {},
   "outputs": [],
   "source": [
    "# Using Keras Desnse class , We can create Input Layer of the ANN\n",
    "from keras.models import Sequential \n",
    "from keras.layers import Activation, Dense \n",
    "from keras import initializers \n",
    "from keras import regularizers \n",
    "from keras import constraints \n",
    "\n",
    "model = Sequential() \n",
    "\n",
    "model.add(Dense(32, input_shape=(16,), kernel_initializer = 'he_uniform', \n",
    "   kernel_regularizer = None, kernel_constraint = 'MaxNorm', activation = 'relu')) \n",
    "model.add(Dense(16, activation = 'relu')) \n",
    "model.add(Dense(8))"
   ]
  },
  {
   "cell_type": "markdown",
   "metadata": {},
   "source": [
    "# LAYERS IN KERAS"
   ]
  },
  {
   "cell_type": "markdown",
   "metadata": {},
   "source": [
    "- Dense Layer\n",
    "- Dropout Layer\n",
    "- Flatten Layer\n",
    "- Pooling Layer\n",
    "- Convolution Layer"
   ]
  }
 ],
 "metadata": {
  "kernelspec": {
   "display_name": "Python 3",
   "language": "python",
   "name": "python3"
  },
  "language_info": {
   "codemirror_mode": {
    "name": "ipython",
    "version": 3
   },
   "file_extension": ".py",
   "mimetype": "text/x-python",
   "name": "python",
   "nbconvert_exporter": "python",
   "pygments_lexer": "ipython3",
   "version": "3.10.15"
  }
 },
 "nbformat": 4,
 "nbformat_minor": 2
}
