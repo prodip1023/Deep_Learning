{
 "cells": [
  {
   "cell_type": "code",
   "execution_count": 1,
   "metadata": {},
   "outputs": [
    {
     "name": "stderr",
     "output_type": "stream",
     "text": [
      "2024-12-30 23:14:25.028605: I tensorflow/core/platform/cpu_feature_guard.cc:210] This TensorFlow binary is optimized to use available CPU instructions in performance-critical operations.\n",
      "To enable the following instructions: AVX2 FMA, in other operations, rebuild TensorFlow with the appropriate compiler flags.\n"
     ]
    }
   ],
   "source": [
    "# Step 1: Import Libraries and Load the Model\n",
    "import numpy as np\n",
    "import tensorflow as tf\n",
    "from tensorflow.keras.datasets import imdb\n",
    "from tensorflow.keras.preprocessing import sequence\n",
    "from tensorflow.keras.models import load_model"
   ]
  },
  {
   "cell_type": "code",
   "execution_count": 2,
   "metadata": {},
   "outputs": [],
   "source": [
    "# Load the IMDB dataset word index\n",
    "word_index = imdb.get_word_index()\n",
    "reverse_word_index = {value: key for key, value in word_index.items()}"
   ]
  },
  {
   "cell_type": "code",
   "execution_count": 3,
   "metadata": {},
   "outputs": [
    {
     "name": "stderr",
     "output_type": "stream",
     "text": [
      "WARNING:absl:Compiled the loaded model, but the compiled metrics have yet to be built. `model.compile_metrics` will be empty until you train or evaluate the model.\n"
     ]
    },
    {
     "data": {
      "text/html": [
       "<pre style=\"white-space:pre;overflow-x:auto;line-height:normal;font-family:Menlo,'DejaVu Sans Mono',consolas,'Courier New',monospace\"><span style=\"font-weight: bold\">Model: \"sequential_2\"</span>\n",
       "</pre>\n"
      ],
      "text/plain": [
       "\u001b[1mModel: \"sequential_2\"\u001b[0m\n"
      ]
     },
     "metadata": {},
     "output_type": "display_data"
    },
    {
     "data": {
      "text/html": [
       "<pre style=\"white-space:pre;overflow-x:auto;line-height:normal;font-family:Menlo,'DejaVu Sans Mono',consolas,'Courier New',monospace\">┏━━━━━━━━━━━━━━━━━━━━━━━━━━━━━━━━━┳━━━━━━━━━━━━━━━━━━━━━━━━┳━━━━━━━━━━━━━━━┓\n",
       "┃<span style=\"font-weight: bold\"> Layer (type)                    </span>┃<span style=\"font-weight: bold\"> Output Shape           </span>┃<span style=\"font-weight: bold\">       Param # </span>┃\n",
       "┡━━━━━━━━━━━━━━━━━━━━━━━━━━━━━━━━━╇━━━━━━━━━━━━━━━━━━━━━━━━╇━━━━━━━━━━━━━━━┩\n",
       "│ embedding_2 (<span style=\"color: #0087ff; text-decoration-color: #0087ff\">Embedding</span>)         │ (<span style=\"color: #00af00; text-decoration-color: #00af00\">32</span>, <span style=\"color: #00af00; text-decoration-color: #00af00\">500</span>, <span style=\"color: #00af00; text-decoration-color: #00af00\">128</span>)         │     <span style=\"color: #00af00; text-decoration-color: #00af00\">1,280,000</span> │\n",
       "├─────────────────────────────────┼────────────────────────┼───────────────┤\n",
       "│ simple_rnn_1 (<span style=\"color: #0087ff; text-decoration-color: #0087ff\">SimpleRNN</span>)        │ (<span style=\"color: #00af00; text-decoration-color: #00af00\">32</span>, <span style=\"color: #00af00; text-decoration-color: #00af00\">128</span>)              │        <span style=\"color: #00af00; text-decoration-color: #00af00\">32,896</span> │\n",
       "├─────────────────────────────────┼────────────────────────┼───────────────┤\n",
       "│ dense_1 (<span style=\"color: #0087ff; text-decoration-color: #0087ff\">Dense</span>)                 │ (<span style=\"color: #00af00; text-decoration-color: #00af00\">32</span>, <span style=\"color: #00af00; text-decoration-color: #00af00\">1</span>)                │           <span style=\"color: #00af00; text-decoration-color: #00af00\">129</span> │\n",
       "└─────────────────────────────────┴────────────────────────┴───────────────┘\n",
       "</pre>\n"
      ],
      "text/plain": [
       "┏━━━━━━━━━━━━━━━━━━━━━━━━━━━━━━━━━┳━━━━━━━━━━━━━━━━━━━━━━━━┳━━━━━━━━━━━━━━━┓\n",
       "┃\u001b[1m \u001b[0m\u001b[1mLayer (type)                   \u001b[0m\u001b[1m \u001b[0m┃\u001b[1m \u001b[0m\u001b[1mOutput Shape          \u001b[0m\u001b[1m \u001b[0m┃\u001b[1m \u001b[0m\u001b[1m      Param #\u001b[0m\u001b[1m \u001b[0m┃\n",
       "┡━━━━━━━━━━━━━━━━━━━━━━━━━━━━━━━━━╇━━━━━━━━━━━━━━━━━━━━━━━━╇━━━━━━━━━━━━━━━┩\n",
       "│ embedding_2 (\u001b[38;5;33mEmbedding\u001b[0m)         │ (\u001b[38;5;34m32\u001b[0m, \u001b[38;5;34m500\u001b[0m, \u001b[38;5;34m128\u001b[0m)         │     \u001b[38;5;34m1,280,000\u001b[0m │\n",
       "├─────────────────────────────────┼────────────────────────┼───────────────┤\n",
       "│ simple_rnn_1 (\u001b[38;5;33mSimpleRNN\u001b[0m)        │ (\u001b[38;5;34m32\u001b[0m, \u001b[38;5;34m128\u001b[0m)              │        \u001b[38;5;34m32,896\u001b[0m │\n",
       "├─────────────────────────────────┼────────────────────────┼───────────────┤\n",
       "│ dense_1 (\u001b[38;5;33mDense\u001b[0m)                 │ (\u001b[38;5;34m32\u001b[0m, \u001b[38;5;34m1\u001b[0m)                │           \u001b[38;5;34m129\u001b[0m │\n",
       "└─────────────────────────────────┴────────────────────────┴───────────────┘\n"
      ]
     },
     "metadata": {},
     "output_type": "display_data"
    },
    {
     "data": {
      "text/html": [
       "<pre style=\"white-space:pre;overflow-x:auto;line-height:normal;font-family:Menlo,'DejaVu Sans Mono',consolas,'Courier New',monospace\"><span style=\"font-weight: bold\"> Total params: </span><span style=\"color: #00af00; text-decoration-color: #00af00\">1,313,027</span> (5.01 MB)\n",
       "</pre>\n"
      ],
      "text/plain": [
       "\u001b[1m Total params: \u001b[0m\u001b[38;5;34m1,313,027\u001b[0m (5.01 MB)\n"
      ]
     },
     "metadata": {},
     "output_type": "display_data"
    },
    {
     "data": {
      "text/html": [
       "<pre style=\"white-space:pre;overflow-x:auto;line-height:normal;font-family:Menlo,'DejaVu Sans Mono',consolas,'Courier New',monospace\"><span style=\"font-weight: bold\"> Trainable params: </span><span style=\"color: #00af00; text-decoration-color: #00af00\">1,313,025</span> (5.01 MB)\n",
       "</pre>\n"
      ],
      "text/plain": [
       "\u001b[1m Trainable params: \u001b[0m\u001b[38;5;34m1,313,025\u001b[0m (5.01 MB)\n"
      ]
     },
     "metadata": {},
     "output_type": "display_data"
    },
    {
     "data": {
      "text/html": [
       "<pre style=\"white-space:pre;overflow-x:auto;line-height:normal;font-family:Menlo,'DejaVu Sans Mono',consolas,'Courier New',monospace\"><span style=\"font-weight: bold\"> Non-trainable params: </span><span style=\"color: #00af00; text-decoration-color: #00af00\">0</span> (0.00 B)\n",
       "</pre>\n"
      ],
      "text/plain": [
       "\u001b[1m Non-trainable params: \u001b[0m\u001b[38;5;34m0\u001b[0m (0.00 B)\n"
      ]
     },
     "metadata": {},
     "output_type": "display_data"
    },
    {
     "data": {
      "text/html": [
       "<pre style=\"white-space:pre;overflow-x:auto;line-height:normal;font-family:Menlo,'DejaVu Sans Mono',consolas,'Courier New',monospace\"><span style=\"font-weight: bold\"> Optimizer params: </span><span style=\"color: #00af00; text-decoration-color: #00af00\">2</span> (12.00 B)\n",
       "</pre>\n"
      ],
      "text/plain": [
       "\u001b[1m Optimizer params: \u001b[0m\u001b[38;5;34m2\u001b[0m (12.00 B)\n"
      ]
     },
     "metadata": {},
     "output_type": "display_data"
    }
   ],
   "source": [
    "# Load the pre-trained model with ReLU activation\n",
    "model = load_model('simple_rnn_imdb.h5')\n",
    "model.summary()"
   ]
  },
  {
   "cell_type": "code",
   "execution_count": 4,
   "metadata": {},
   "outputs": [
    {
     "data": {
      "text/plain": [
       "[array([[-0.87023324,  0.6887093 ,  0.605118  , ...,  0.9014838 ,\n",
       "         -0.05332044, -0.32459614],\n",
       "        [-0.05675133,  0.00830885,  0.06307182, ...,  0.08157661,\n",
       "         -0.04903364, -0.02045199],\n",
       "        [-0.1606456 ,  0.13726304,  0.05203887, ...,  0.1610725 ,\n",
       "         -0.11308777, -0.11235168],\n",
       "        ...,\n",
       "        [-0.00593853, -0.10214983, -0.06799416, ...,  0.09567776,\n",
       "          0.04079841, -0.03360065],\n",
       "        [ 0.02147179, -0.00491479,  0.04659707, ...,  0.03220583,\n",
       "         -0.06540661,  0.00243474],\n",
       "        [ 0.01170277, -0.10339635,  0.00865971, ...,  0.0595007 ,\n",
       "          0.06276489,  0.03038599]], dtype=float32),\n",
       " array([[-0.08299381, -0.01469826, -0.03147497, ...,  0.23133782,\n",
       "         -0.03252032,  0.1680132 ],\n",
       "        [-0.03380701,  0.11628348, -0.13001625, ..., -0.02776786,\n",
       "         -0.08154552,  0.10804584],\n",
       "        [ 0.04595217,  0.03210906, -0.14528383, ...,  0.00109075,\n",
       "         -0.15069619, -0.28943852],\n",
       "        ...,\n",
       "        [ 0.11069991,  0.10441754, -0.18019468, ..., -0.08655102,\n",
       "          0.13792355,  0.08992539],\n",
       "        [ 0.04196335, -0.05536418, -0.16585058, ..., -0.07322496,\n",
       "         -0.06823901, -0.05008781],\n",
       "        [ 0.13175127,  0.12985438, -0.12816867, ...,  0.01946067,\n",
       "         -0.10956297, -0.02582894]], dtype=float32),\n",
       " array([[ 0.0428409 , -0.12872428, -0.03440573, ..., -0.19367434,\n",
       "         -0.04732627, -0.05561296],\n",
       "        [-0.07604114,  0.03505438,  0.18433213, ...,  0.13572676,\n",
       "         -0.0749135 , -0.06166768],\n",
       "        [-0.1233843 ,  0.05558382,  0.1338659 , ...,  0.03584887,\n",
       "         -0.10764966,  0.01635123],\n",
       "        ...,\n",
       "        [-0.24575163, -0.14861208, -0.19072032, ..., -0.06097065,\n",
       "          0.1301058 ,  0.01961468],\n",
       "        [-0.14384846,  0.16014645, -0.07585559, ..., -0.16389917,\n",
       "         -0.06820068,  0.08258057],\n",
       "        [ 0.01469321,  0.0176141 ,  0.09286729, ..., -0.0543082 ,\n",
       "         -0.14411491,  0.1389176 ]], dtype=float32),\n",
       " array([-9.2320153e-03,  1.0618250e-05,  4.7281943e-03, -2.5842097e-02,\n",
       "        -1.5177167e-02,  3.1821717e-02,  8.4519116e-03, -3.3753648e-02,\n",
       "        -1.2329446e-02, -1.6499342e-02, -1.5795562e-02,  7.5619877e-03,\n",
       "        -1.6110154e-02,  5.3565744e-02,  1.2466267e-02,  1.0910505e-02,\n",
       "        -1.9433489e-02, -2.5961794e-02, -2.2177491e-02,  2.5966678e-02,\n",
       "        -4.0918078e-02, -1.9129561e-02, -7.0899315e-03,  2.8658467e-03,\n",
       "        -9.8273400e-03,  5.1235543e-03, -3.7527181e-02, -1.5254072e-02,\n",
       "         8.6145401e-03, -3.6333356e-02, -1.6328426e-02,  3.4695145e-02,\n",
       "        -1.3296812e-02, -4.7559063e-03, -2.1273789e-03,  4.3086361e-02,\n",
       "        -3.1392153e-02,  3.1675487e-03,  2.2019760e-03,  1.2863574e-02,\n",
       "         2.9111155e-03, -3.3506516e-03, -3.7349377e-02, -2.4050413e-02,\n",
       "        -4.1388303e-02, -6.5339315e-03,  6.8154060e-03, -1.2002511e-02,\n",
       "         5.9238635e-03, -3.3756284e-04,  5.4490785e-03, -2.7961300e-03,\n",
       "         2.2664744e-02, -2.6094917e-02, -4.6537137e-03, -1.6890649e-02,\n",
       "        -2.7750311e-02, -3.9560121e-02, -6.2370864e-03,  2.3586558e-02,\n",
       "        -1.0921112e-02,  2.1579258e-02,  2.1264454e-02, -1.4012284e-02,\n",
       "        -2.3820556e-03,  1.6363246e-02,  8.2552861e-03, -2.7361834e-02,\n",
       "        -2.5627933e-02, -2.3545807e-02, -1.8537033e-02,  6.0151024e-03,\n",
       "        -4.7087416e-02, -1.6981814e-02, -2.8034646e-02,  1.3245044e-02,\n",
       "        -5.4709478e-03,  5.1010950e-03,  1.0144779e-02, -1.2975225e-02,\n",
       "         3.3728536e-02, -5.6254007e-03, -1.2610109e-02, -4.0840637e-02,\n",
       "         2.9799212e-03, -2.4475206e-02,  1.4063538e-02, -2.1911157e-02,\n",
       "        -3.0899968e-02,  1.3927416e-02,  5.7647079e-03, -4.1486085e-03,\n",
       "        -1.1379386e-02, -1.9754982e-02, -1.0412215e-02, -1.4496977e-02,\n",
       "        -1.9938493e-02,  1.7922988e-02, -3.1065857e-02, -4.0828209e-02,\n",
       "         1.1901125e-02, -2.5156956e-02, -1.0787852e-02, -3.2369439e-02,\n",
       "        -7.7292318e-03, -9.9497882e-04,  1.8558720e-02,  3.8389391e-03,\n",
       "         3.3247180e-02,  2.5752580e-02, -3.1471130e-02, -9.0334518e-03,\n",
       "        -2.7600976e-02, -1.9203780e-02,  1.6711114e-02, -4.6014698e-04,\n",
       "        -1.6785985e-02, -1.9720184e-02,  6.4401738e-02, -3.1477958e-02,\n",
       "         1.9994953e-03, -2.3480492e-02, -1.9169759e-02, -1.7902540e-02,\n",
       "         1.4383669e-02, -8.1473030e-03,  1.0379783e-03,  8.6940749e-04],\n",
       "       dtype=float32),\n",
       " array([[ 2.28569835e-01],\n",
       "        [ 1.47194397e-02],\n",
       "        [-1.26623645e-01],\n",
       "        [-5.16422577e-02],\n",
       "        [ 1.17516845e-01],\n",
       "        [ 2.60110130e-03],\n",
       "        [ 2.23272413e-01],\n",
       "        [ 6.59114957e-01],\n",
       "        [-4.01793309e-02],\n",
       "        [-1.70730963e-01],\n",
       "        [ 1.63451180e-01],\n",
       "        [ 6.65992126e-02],\n",
       "        [-1.41205136e-02],\n",
       "        [ 2.18211979e-01],\n",
       "        [-1.58202127e-01],\n",
       "        [ 1.99864432e-01],\n",
       "        [ 1.09792754e-01],\n",
       "        [-1.38145775e-01],\n",
       "        [ 5.88442162e-02],\n",
       "        [ 1.92558438e-01],\n",
       "        [ 5.56320436e-02],\n",
       "        [ 1.62262946e-01],\n",
       "        [ 1.05377853e-01],\n",
       "        [ 1.78002551e-01],\n",
       "        [-9.82503146e-02],\n",
       "        [-4.36738908e-01],\n",
       "        [-2.86584169e-01],\n",
       "        [ 5.46853095e-02],\n",
       "        [ 2.13043953e-04],\n",
       "        [-1.18618183e-01],\n",
       "        [ 2.21272618e-01],\n",
       "        [-2.10757136e-01],\n",
       "        [-6.10164031e-02],\n",
       "        [-9.95134488e-02],\n",
       "        [-2.04505712e-01],\n",
       "        [ 1.42051607e-01],\n",
       "        [-2.07943060e-02],\n",
       "        [ 1.44138828e-01],\n",
       "        [ 1.57788187e-01],\n",
       "        [-4.33431752e-02],\n",
       "        [-6.31050020e-02],\n",
       "        [-1.11691862e-01],\n",
       "        [ 9.26257763e-03],\n",
       "        [ 1.92208797e-01],\n",
       "        [ 5.50699383e-02],\n",
       "        [ 1.15468428e-01],\n",
       "        [-1.95634663e-01],\n",
       "        [ 1.18919322e-02],\n",
       "        [-1.78117275e-01],\n",
       "        [-2.05432981e-01],\n",
       "        [-2.57599931e-02],\n",
       "        [ 2.47150987e-01],\n",
       "        [-1.71490647e-02],\n",
       "        [ 1.46614220e-02],\n",
       "        [-5.85660376e-02],\n",
       "        [ 1.98688582e-01],\n",
       "        [-2.07607485e-02],\n",
       "        [-1.83404893e-01],\n",
       "        [-5.92509210e-01],\n",
       "        [ 1.15453377e-01],\n",
       "        [ 2.18691930e-01],\n",
       "        [ 1.34297743e-01],\n",
       "        [ 1.36280924e-01],\n",
       "        [-2.84004986e-01],\n",
       "        [-1.61390845e-02],\n",
       "        [-1.71225041e-01],\n",
       "        [-8.45302362e-04],\n",
       "        [-3.38347256e-02],\n",
       "        [ 1.47940546e-01],\n",
       "        [ 1.89592823e-01],\n",
       "        [-1.68360770e-01],\n",
       "        [-7.44544789e-02],\n",
       "        [-6.54221624e-02],\n",
       "        [-1.82870075e-01],\n",
       "        [-2.92524934e-01],\n",
       "        [ 2.17330903e-01],\n",
       "        [ 8.12377036e-02],\n",
       "        [ 9.78701189e-03],\n",
       "        [ 7.39889368e-02],\n",
       "        [-9.91356522e-02],\n",
       "        [-1.00165196e-01],\n",
       "        [ 1.10104606e-01],\n",
       "        [ 2.07514212e-01],\n",
       "        [-3.27689126e-02],\n",
       "        [ 1.70276329e-01],\n",
       "        [-8.43705833e-02],\n",
       "        [ 2.72410959e-01],\n",
       "        [-1.04745373e-01],\n",
       "        [-3.01839560e-01],\n",
       "        [ 1.17876522e-01],\n",
       "        [-1.35888219e-01],\n",
       "        [ 1.79464474e-01],\n",
       "        [ 3.97800282e-02],\n",
       "        [-1.41359955e-01],\n",
       "        [ 1.11819636e-02],\n",
       "        [-2.88456470e-01],\n",
       "        [ 1.19267784e-01],\n",
       "        [-8.82816836e-02],\n",
       "        [ 9.72018614e-02],\n",
       "        [-8.46705493e-03],\n",
       "        [ 1.83753535e-01],\n",
       "        [ 1.89814568e-01],\n",
       "        [-1.29658163e-01],\n",
       "        [-1.64114654e-01],\n",
       "        [-1.67392224e-01],\n",
       "        [-4.36672289e-03],\n",
       "        [ 1.91741303e-01],\n",
       "        [-2.97515005e-01],\n",
       "        [ 1.26052424e-01],\n",
       "        [-3.39659870e-01],\n",
       "        [-1.30250350e-01],\n",
       "        [-2.18740240e-01],\n",
       "        [-9.43200812e-02],\n",
       "        [ 2.10423529e-01],\n",
       "        [-6.03702068e-02],\n",
       "        [ 2.10909173e-01],\n",
       "        [-1.50575012e-01],\n",
       "        [-1.40043244e-01],\n",
       "        [ 7.45654479e-02],\n",
       "        [ 2.20338851e-01],\n",
       "        [-1.62610859e-01],\n",
       "        [ 1.47705078e-01],\n",
       "        [-8.31419900e-02],\n",
       "        [ 2.35642418e-01],\n",
       "        [ 1.24340378e-01],\n",
       "        [-5.37749529e-01],\n",
       "        [-1.87465474e-01],\n",
       "        [-9.69362780e-02]], dtype=float32),\n",
       " array([0.2316115], dtype=float32)]"
      ]
     },
     "execution_count": 4,
     "metadata": {},
     "output_type": "execute_result"
    }
   ],
   "source": [
    "model.get_weights()"
   ]
  },
  {
   "cell_type": "code",
   "execution_count": 5,
   "metadata": {},
   "outputs": [],
   "source": [
    "# Step 2: Helper Functions\n",
    "# Function to decode reviews\n",
    "def decode_review(encoded_review):\n",
    "    return ' '.join([reverse_word_index.get(i - 3, '?') for i in encoded_review])\n",
    "\n",
    "# Function to preprocess user input\n",
    "def preprocess_text(text):\n",
    "    words = text.lower().split()\n",
    "    encoded_review = [word_index.get(word, 2) + 3 for word in words]\n",
    "    padded_review = sequence.pad_sequences([encoded_review], maxlen=500)\n",
    "    return padded_review"
   ]
  },
  {
   "cell_type": "code",
   "execution_count": 6,
   "metadata": {},
   "outputs": [],
   "source": [
    "###Step 3. Prediction  function\n",
    "\n",
    "def predict_sentiment(review):\n",
    "    preprocessed_input=preprocess_text(review)\n",
    "\n",
    "    prediction=model.predict(preprocessed_input)\n",
    "\n",
    "    sentiment = 'Positive' if prediction[0][0] > 0.5 else 'Negative'\n",
    "    \n",
    "    return sentiment, prediction[0][0]"
   ]
  },
  {
   "cell_type": "code",
   "execution_count": 7,
   "metadata": {},
   "outputs": [
    {
     "name": "stdout",
     "output_type": "stream",
     "text": [
      "\u001b[1m1/1\u001b[0m \u001b[32m━━━━━━━━━━━━━━━━━━━━\u001b[0m\u001b[37m\u001b[0m \u001b[1m1s\u001b[0m 836ms/step\n",
      "Review: This movie was fantastic! The acting was great and the plot was thrilling.\n",
      "Sentiment: Positive\n",
      "Prediction Score: 0.9999781250953674\n"
     ]
    }
   ],
   "source": [
    "# Step 4: User Input and Prediction\n",
    "# Example review for prediction\n",
    "example_review = \"This movie was fantastic! The acting was great and the plot was thrilling.\"\n",
    "sentiment,score=predict_sentiment(example_review)\n",
    "\n",
    "print(f'Review: {example_review}')\n",
    "print(f'Sentiment: {sentiment}')\n",
    "print(f'Prediction Score: {score}')"
   ]
  },
  {
   "cell_type": "code",
   "execution_count": null,
   "metadata": {},
   "outputs": [],
   "source": []
  }
 ],
 "metadata": {
  "kernelspec": {
   "display_name": "Python 3",
   "language": "python",
   "name": "python3"
  },
  "language_info": {
   "codemirror_mode": {
    "name": "ipython",
    "version": 3
   },
   "file_extension": ".py",
   "mimetype": "text/x-python",
   "name": "python",
   "nbconvert_exporter": "python",
   "pygments_lexer": "ipython3",
   "version": "3.10.15"
  }
 },
 "nbformat": 4,
 "nbformat_minor": 2
}
